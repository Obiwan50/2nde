{
 "cells": [
  {
   "cell_type": "markdown",
   "metadata": {},
   "source": [
    "<h1>Partie 1 : récupérer des coordonnées géographiques et une adresse à partir d'une trame GPGGA</h1>"
   ]
  },
  {
   "cell_type": "markdown",
   "metadata": {},
   "source": [
    "\n",
    "Les fonctions et démarches suivantes permettent d'obtenir la latitude et la longitude contenues dans une trame de type GPGGA (GPS). Le choix a été fait de procéder par étapes, et de visualiser les résultats "
   ]
  },
  {
   "cell_type": "code",
   "execution_count": null,
   "metadata": {},
   "outputs": [],
   "source": [
    "trame =\"$GPGGA,095039.00,4904.621801,N,00144.333432,W,1,18,0.6,53.4,M,47.8,M,,*4A\""
   ]
  },
  {
   "cell_type": "code",
   "execution_count": null,
   "metadata": {
    "scrolled": true
   },
   "outputs": [],
   "source": [
    "# on crée une liste en coupant la trame à chaque virgule\n",
    "liste = trame.split(',')\n",
    "liste"
   ]
  },
  {
   "cell_type": "code",
   "execution_count": null,
   "metadata": {},
   "outputs": [],
   "source": [
    "def latitude(listeGPGGA):\n",
    "    valeur = float(liste[2])#troisième terme de la liste, donc d'indice 2\n",
    "    degre = int(valeur/100)\n",
    "    minutes = valeur%100 #conserve les chiffres à partir des dizaines vers la droite\n",
    "    if liste[3]=='N':\n",
    "        return degre + minutes/60 #latitude Nord, donc positive\n",
    "    else : \n",
    "        return -degre - minutes/60 #latitude negative"
   ]
  },
  {
   "cell_type": "code",
   "execution_count": null,
   "metadata": {},
   "outputs": [],
   "source": [
    "def longitude(listeGPGGA):\n",
    "    valeur = float(liste[4])#cinquième terme de la liste, donc d'indice 4\n",
    "    degre = int(valeur/100)\n",
    "    minutes = valeur%100 #conserve les chiffres à partir des dizaines vers la droite\n",
    "    if liste[5]=='E':\n",
    "        return degre + minutes/60 #longitude Est, donc positive\n",
    "    else : \n",
    "        return -degre - minutes/60 #longitude negative"
   ]
  },
  {
   "cell_type": "code",
   "execution_count": null,
   "metadata": {},
   "outputs": [],
   "source": [
    "latitude = latitude(liste)\n",
    "longitude = longitude(liste)\n",
    "latitude, longitude"
   ]
  },
  {
   "cell_type": "markdown",
   "metadata": {},
   "source": [
    "<h1>Partie 2 : Placer un marqueur sur une carte avec folium</h1>"
   ]
  },
  {
   "cell_type": "markdown",
   "metadata": {},
   "source": [
    "Ici, latitude et longitude ont des valeurs obtenues lors de la partie 1. On peut utiliser ce qui suit avec des coordonnées quelconques, en donnant des valeurs numériques aux variables latitude et longitude."
   ]
  },
  {
   "cell_type": "code",
   "execution_count": null,
   "metadata": {},
   "outputs": [],
   "source": [
    "import folium\n",
    "carte = folium.Map(location=[latitude, longitude], zoom_start=14)\n",
    "folium.Marker([latitude, longitude], \n",
    "              popup=\"?\",\n",
    "              #icon=folium.Icon(color='red')\n",
    "             ).add_to(carte)\n",
    "\n",
    "#si l'on souhaite créer un fichier  html contenant la carte :\n",
    "#carte.save('maCarte.html')\n",
    "#si l'on souhaite afficher la carte dans le document jupyter : \n",
    "carte"
   ]
  }
 ],
 "metadata": {
  "celltoolbar": "Format de la Cellule Texte Brut",
  "kernelspec": {
   "display_name": "Python 3",
   "language": "python",
   "name": "python3"
  },
  "language_info": {
   "codemirror_mode": {
    "name": "ipython",
    "version": 3
   },
   "file_extension": ".py",
   "mimetype": "text/x-python",
   "name": "python",
   "nbconvert_exporter": "python",
   "pygments_lexer": "ipython3",
   "version": "3.7.3"
  }
 },
 "nbformat": 4,
 "nbformat_minor": 2
}
